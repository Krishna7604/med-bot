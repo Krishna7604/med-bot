{
 "cells": [
  {
   "cell_type": "code",
   "execution_count": 1,
   "metadata": {},
   "outputs": [
    {
     "name": "stdout",
     "output_type": "stream",
     "text": [
      "hello\n"
     ]
    }
   ],
   "source": [
    "print(\"hello\")"
   ]
  },
  {
   "cell_type": "code",
   "execution_count": 3,
   "metadata": {},
   "outputs": [
    {
     "name": "stderr",
     "output_type": "stream",
     "text": [
      "c:\\Users\\krish\\projects\\med-bot\\env\\lib\\site-packages\\pinecone\\data\\index.py:1: TqdmWarning: IProgress not found. Please update jupyter and ipywidgets. See https://ipywidgets.readthedocs.io/en/stable/user_install.html\n",
      "  from tqdm.autonotebook import tqdm\n"
     ]
    }
   ],
   "source": [
    "from langchain.prompts import PromptTemplate\n",
    "from langchain.text_splitter import RecursiveCharacterTextSplitter\n",
    "from langchain.document_loaders import DirectoryLoader,PyPDFLoader\n",
    "from langchain.chains import RetrievalQA\n",
    "from langchain.embeddings import HuggingFaceEmbeddings\n",
    "from langchain.vectorstores import pinecone\n",
    "import pinecone\n",
    "from langchain.llms import ctransformers\n",
    "from langchain_pinecone import PineconeVectorStore"
   ]
  },
  {
   "cell_type": "code",
   "execution_count": 7,
   "metadata": {},
   "outputs": [],
   "source": [
    "from dotenv import load_dotenv\n",
    "load_dotenv()\n",
    "import os"
   ]
  },
  {
   "cell_type": "code",
   "execution_count": 10,
   "metadata": {},
   "outputs": [],
   "source": [
    "pinecone_api=os.getenv(\"PINECONE_API_KEY\")\n"
   ]
  },
  {
   "cell_type": "code",
   "execution_count": 8,
   "metadata": {},
   "outputs": [],
   "source": [
    "def importdata(data):\n",
    "    loader=DirectoryLoader(data,glob=\"*.pdf\",loader_cls=PyPDFLoader)\n",
    "    document=loader.load()\n",
    "    return document"
   ]
  },
  {
   "cell_type": "code",
   "execution_count": 9,
   "metadata": {},
   "outputs": [],
   "source": [
    "docs=importdata(\"data/\")"
   ]
  },
  {
   "cell_type": "code",
   "execution_count": 10,
   "metadata": {},
   "outputs": [],
   "source": [
    "def datachunking(data_extracted):\n",
    "    chunker=RecursiveCharacterTextSplitter(chunk_size=1000,chunk_overlap=30)\n",
    "    chunks=chunker.split_documents(data_extracted)\n",
    "    return chunks"
   ]
  },
  {
   "cell_type": "code",
   "execution_count": 11,
   "metadata": {},
   "outputs": [],
   "source": [
    "texts=datachunking(docs)"
   ]
  },
  {
   "cell_type": "code",
   "execution_count": 12,
   "metadata": {},
   "outputs": [
    {
     "data": {
      "text/plain": [
       "30789"
      ]
     },
     "execution_count": 12,
     "metadata": {},
     "output_type": "execute_result"
    }
   ],
   "source": [
    "len(texts)"
   ]
  },
  {
   "cell_type": "code",
   "execution_count": 1,
   "metadata": {},
   "outputs": [],
   "source": [
    "def embeddingmodel():\n",
    "    embedding=HuggingFaceEmbeddings(model_name=\"sentence-transformers/all-MiniLM-L6-v2\")\n",
    "    return embedding"
   ]
  },
  {
   "cell_type": "code",
   "execution_count": 4,
   "metadata": {},
   "outputs": [],
   "source": [
    "embedder=embeddingmodel()"
   ]
  },
  {
   "cell_type": "code",
   "execution_count": 11,
   "metadata": {},
   "outputs": [],
   "source": [
    "\n",
    "os.environ['PINECONE_API_KEY'] = pinecone_api\n",
    "#PineconeVectorStore.from_texts([p.page_content for p in texts],embedding=embedder,index_name=\"med-bot\")"
   ]
  },
  {
   "cell_type": "code",
   "execution_count": 12,
   "metadata": {},
   "outputs": [],
   "source": [
    "from langchain_pinecone import PineconeVectorStore\n",
    "import os\n",
    "\n",
    "docsearch=PineconeVectorStore.from_existing_index(index_name=\"med-bot\",embedding=embedder)"
   ]
  },
  {
   "cell_type": "code",
   "execution_count": 13,
   "metadata": {},
   "outputs": [],
   "source": [
    "res=docsearch.similarity_search(\"what is acne?\",k=2)"
   ]
  },
  {
   "cell_type": "code",
   "execution_count": 14,
   "metadata": {},
   "outputs": [
    {
     "name": "stdout",
     "output_type": "stream",
     "text": [
      "infect sebaceous follicles, causing acne.Pustule— A pus-filled pimple.\n",
      "Sebaceous follicles— Structures in the skin that\n",
      "contain oil-producing glands and hair follicles\n",
      "and which give rise acne.\n",
      "Sebum— An oily skin moisturizer produced by\n",
      "sebaceous glands.\n",
      "Tretinoin— A naturally occurring retinoid, derived\n",
      "from vitamin A, that treats acne by increasing the\n",
      "turnover (death and replacement) of skin cells.\n",
      "GALE ENCYCLOPEDIA OF MEDICINE, 5THEDITION 27Acne disease\n",
      "Acidosis seeRespiratory acidosis; Renal\n",
      "tubular acidosis; Metabolic acidosis\n",
      "Acne\n",
      "Definition\n",
      "Acne is a common skin condition characterized by\n",
      "pimples on the face, chest, and back. It occurs when\n",
      "the pores of the skin become clogged with oil, deadskin cells, and bacteria.\n",
      "Demographics\n",
      "Acne vulgaris , or common acne, is the most prev-\n",
      "alent of all skin diseases. It affects nearly 17 millionpeople in the United States. Nearly 85% of youngpeople develop acne at some time between the agesof 12 and 25 years. It usually begins at puberty and\n",
      "worsens during adolescence, occurring most oftenbetween the ages of 14 and 18. However, acne canarise at any age, including in newborns and olderadults. It is more common and often more severe inmales than in females. Although acne usually resolveson its own during early adulthood, some people con-tinue to have acne outbreaks well into adulthood.\n",
      "Description\n",
      "Acne originates in the oil or sebaceous glands\n"
     ]
    }
   ],
   "source": [
    "print(res[0].page_content,res[1].page_content)"
   ]
  },
  {
   "cell_type": "code",
   "execution_count": 15,
   "metadata": {},
   "outputs": [],
   "source": [
    "prompttemplate=\"\"\"\n",
    "use the following pieces of context to answer the user's question\n",
    "if you don't know the answer just say \"not related to me\" ,don't try to make up the answer\n",
    "context={context}\n",
    "question={question}\n",
    "summerize the result with right words and return below\n",
    "answer:\"\"\" \n",
    "pprompt=PromptTemplate(template=prompttemplate,input_variables=[\"context\", \"question\"])"
   ]
  },
  {
   "cell_type": "code",
   "execution_count": 17,
   "metadata": {},
   "outputs": [],
   "source": [
    "llm=ctransformers.CTransformers(model=\"../model/llama-2-7b-chat.ggmlv3.q4_0.bin\",\n",
    "                  model_type=\"llama\",\n",
    "                  config={\"max_new_tokens\":512,\n",
    "                          \"temperature\":0.5})"
   ]
  },
  {
   "cell_type": "code",
   "execution_count": 18,
   "metadata": {},
   "outputs": [],
   "source": [
    "\n",
    "medbot=RetrievalQA.from_chain_type(llm=llm,\n",
    "                            chain_type=\"stuff\",\n",
    "                            retriever=docsearch.as_retriever(kwargs={\"k\":2}),\n",
    "                              \n",
    "                            chain_type_kwargs={\"prompt\": pprompt})"
   ]
  },
  {
   "cell_type": "code",
   "execution_count": 19,
   "metadata": {},
   "outputs": [
    {
     "name": "stderr",
     "output_type": "stream",
     "text": [
      "c:\\Users\\krish\\projects\\med-bot\\env\\lib\\site-packages\\langchain_core\\_api\\deprecation.py:119: LangChainDeprecationWarning: The method `Chain.__call__` was deprecated in langchain 0.1.0 and will be removed in 0.2.0. Use invoke instead.\n",
      "  warn_deprecated(\n"
     ]
    },
    {
     "name": "stdout",
     "output_type": "stream",
     "text": [
      " Acneverification.\n",
      "Acneverified\n",
      "related to the user'\n",
      "not related to the users question in seconds later.\n",
      "Acneedsinception:\n",
      "not related to the user'\n",
      "Acneither related to the user'\n",
      "Acneitherelated, I am not related to the following a question 1: Acneverified.\n",
      "related to the user's to the user'the users query, if you are based on your question 1: Acneverified by typing \"not related to the user'The word count=Acne of context or response\n",
      "Not related to the user's\n",
      "Acneedscientistically related to the user'\n",
      "Acneedsinception\n",
      "related to the users question\n",
      "Acneous\n",
      "Sebace, please.\n",
      "Acne\n",
      "/\n",
      "Acneverified\n",
      "not related to the following words that is related to the user'If you\n",
      "Not related to the user'\n",
      "Related.\n",
      "Acneverbat\n",
      "Acne\n",
      "acneverification\n",
      "related to the users question  Acne\n",
      "Acneither related to the user'\n",
      "Acneverified\n",
      "Acneedsinception.\n",
      "not related to the user'\n",
      "Acneverdict.\n",
      "Acneverified.\n",
      "Not related to the following\n",
      "Acneverified by the user'the user's\n",
      "related to the user question\n",
      "Acneverbat\n",
      "Acneverification, it accurately related to the users question\n",
      "Acneither related to the user'\n",
      "not related to the user'\n",
      "Acneverified\n",
      "Acneverdict. if known as \"not related to the following the user'the user'\n",
      "Acne\n",
      "Related in \n",
      "related to the user's or search:Acneither a question 1: Acneverbat\n",
      "Not related to the users question\n",
      "Acneedsinception\n",
      "Acne of the user'\n",
      "related to the user'\n",
      "not related to the user'The word: Acneverified\n",
      "Not related to \"related to the user' : not related to the user question\n"
     ]
    }
   ],
   "source": [
    "response=medbot({\"query\":\"what is acne?\"})\n",
    "print(response[\"result\"])\n"
   ]
  },
  {
   "cell_type": "code",
   "execution_count": 20,
   "metadata": {},
   "outputs": [],
   "source": [
    "medbot.invoke(\"acne\")"
   ]
  },
  {
   "cell_type": "code",
   "execution_count": 24,
   "metadata": {},
   "outputs": [],
   "source": [
    "from langchain.chains import RetrievalQAWithSourcesChain\n",
    "medbot2=RetrievalQAWithSourcesChain.from_llm(llm=llm,retriever=docsearch.as_retriever())"
   ]
  },
  {
   "cell_type": "code",
   "execution_count": null,
   "metadata": {},
   "outputs": [],
   "source": [
    "medbot2({\"question\":\"what is aging\"},return_only_outputs=True)"
   ]
  },
  {
   "cell_type": "code",
   "execution_count": null,
   "metadata": {},
   "outputs": [],
   "source": []
  }
 ],
 "metadata": {
  "kernelspec": {
   "display_name": "Python 3",
   "language": "python",
   "name": "python3"
  },
  "language_info": {
   "codemirror_mode": {
    "name": "ipython",
    "version": 3
   },
   "file_extension": ".py",
   "mimetype": "text/x-python",
   "name": "python",
   "nbconvert_exporter": "python",
   "pygments_lexer": "ipython3",
   "version": "3.8.19"
  }
 },
 "nbformat": 4,
 "nbformat_minor": 2
}
